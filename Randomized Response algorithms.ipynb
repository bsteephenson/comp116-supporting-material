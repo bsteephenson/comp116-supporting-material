{
 "cells": [
  {
   "cell_type": "markdown",
   "metadata": {},
   "source": [
    "# Randomized Response Algorithms\n",
    "\n",
    "The purpose of this supporting material is to show how one can still do meaningful data analysis on noisy data.\n",
    "\n",
    "In a binary example and a normal gaussian example, we draw true data points from a distrubution. We add noise to the true dataset in creating a collected dataset. Finally we use the collected dataset to draw inferences about the original distributions.\n",
    "\n",
    "Here we demonstrate that with enough data sample, the noise -- and consequently the privacy -- added to each data point might stop mattering with large N."
   ]
  },
  {
   "cell_type": "code",
   "execution_count": 24,
   "metadata": {
    "collapsed": true
   },
   "outputs": [],
   "source": [
    "import numpy as np\n"
   ]
  },
  {
   "cell_type": "code",
   "execution_count": 25,
   "metadata": {},
   "outputs": [
    {
     "name": "stdout",
     "output_type": "stream",
     "text": [
      "True\n",
      "False\n",
      "True\n"
     ]
    }
   ],
   "source": [
    "# Returns true or false, each with .5 probability\n",
    "def flip_coin():\n",
    "    return np.random.binomial(1, .5) == 1\n",
    "\n",
    "print(flip_coin())\n",
    "print(flip_coin())\n",
    "print(flip_coin())\n"
   ]
  },
  {
   "cell_type": "code",
   "execution_count": 26,
   "metadata": {
    "collapsed": true
   },
   "outputs": [],
   "source": [
    "p = .42 # this is the parameter we're trying to predict\n",
    "N = 100\n",
    "\n",
    "# Draw N samples from a bernoilli distribution parameterized by p\n",
    "true_data = np.random.binomial(1, p, size = (N))\n",
    "\n",
    "# Here's how we collect data\n",
    "# First flip a coin. If it lands heads, respond truthfully\n",
    "# Otherwise, flip a second coin. If it lands heads, respond True. If it lands tails, respond False.\n",
    "collected_data = []\n",
    "for x in true_data:\n",
    "    if flip_coin():\n",
    "        collected_data.append(x)\n",
    "    else:\n",
    "        if flip_coin():\n",
    "            collected_data.append(1)\n",
    "        else:\n",
    "            collected_data.append(0)"
   ]
  },
  {
   "cell_type": "code",
   "execution_count": 27,
   "metadata": {},
   "outputs": [
    {
     "name": "stdout",
     "output_type": "stream",
     "text": [
      "0.3\n"
     ]
    }
   ],
   "source": [
    "# Since the P(response = 1) = (1/2)p + 1/4\n",
    "# the expected value of a response is = (1/2)p + 1/4.\n",
    "# We can equate this to the mean of the responses and solve for p.\n",
    "\n",
    "estimated_p = (np.array(collected_data).mean() - .25) / (.5)\n",
    "print(estimated_p)"
   ]
  },
  {
   "cell_type": "code",
   "execution_count": 29,
   "metadata": {},
   "outputs": [
    {
     "name": "stdout",
     "output_type": "stream",
     "text": [
      "N= 100.0 p = 0.3\n",
      "N= 1000.0 p = 0.382\n",
      "N= 10000.0 p = 0.401\n",
      "N= 100000.0 p = 0.41932\n",
      "N= 1000000.0 p = 0.419852\n",
      "N= 10000000.0 p = 0.420168\n"
     ]
    }
   ],
   "source": [
    "# Let's explore how sample size affects our result.\n",
    "\n",
    "for N in [1e2, 1e3, 1e4, 1e5, 1e6, 1e7]:\n",
    "    true_data = np.random.binomial(1, p, size = (int(N)))\n",
    "    collected_data = []\n",
    "    for x in true_data:\n",
    "        if flip_coin():\n",
    "            collected_data.append(x)\n",
    "        else:\n",
    "            if flip_coin():\n",
    "                collected_data.append(1)\n",
    "            else:\n",
    "                collected_data.append(0)\n",
    "    estimated_p = (np.array(collected_data).mean() - .25) / (.5)\n",
    "    print(\"N=\", N, \"p =\", estimated_p)\n",
    "\n"
   ]
  },
  {
   "cell_type": "code",
   "execution_count": 30,
   "metadata": {},
   "outputs": [
    {
     "name": "stdout",
     "output_type": "stream",
     "text": [
      "predicted mu: 42.2296687733 actual mu: 42\n"
     ]
    }
   ],
   "source": [
    "# Let's simulate a two level randomized response scheme\n",
    "# Here's let's draw samples from a normal distribution. These will be the true values.\n",
    "# Then we will add gaussian noise to each sample.\n",
    "# Finally we'll add a second layer of gaussian noise to each sample.\n",
    "# Can we use this final layer to infer the mean of the original normal distribution?\n",
    "\n",
    "mu = 42\n",
    "sigma_0 = 10\n",
    "sigma_1 = 5\n",
    "sigma_2 = 5\n",
    "N = 1000\n",
    "true_data = np.random.normal(mu, sigma_0, size = (N))\n",
    "\n",
    "first_randomization = []\n",
    "for x in true_data:\n",
    "    first_randomization.append(np.random.normal(x, sigma_1))\n",
    "    \n",
    "collected_data = []\n",
    "for x in first_randomization:\n",
    "    collected_data.append(np.random.normal(x, sigma_2))\n",
    "\n",
    "predicted_mu = np.array(collected_data).mean()\n",
    "print(\"predicted mu:\", predicted_mu, \"actual mu:\", mu)"
   ]
  },
  {
   "cell_type": "code",
   "execution_count": 32,
   "metadata": {},
   "outputs": [
    {
     "name": "stdout",
     "output_type": "stream",
     "text": [
      "N 1.0 predicted mu: 61.1815681318\n",
      "N 10.0 predicted mu: 38.4513594696\n",
      "N 100.0 predicted mu: 40.2892790992\n",
      "N 1000.0 predicted mu: 41.8736242943\n",
      "N 10000.0 predicted mu: 41.8844012519\n",
      "N 100000.0 predicted mu: 41.9549832944\n",
      "N 1000000.0 predicted mu: 42.0074336456\n",
      "N 10000000.0 predicted mu: 42.0073227133\n"
     ]
    }
   ],
   "source": [
    "# Similarly, let's observe how sample size affects this\n",
    "\n",
    "mu = 42\n",
    "sigma_0 = 10\n",
    "sigma_1 = 5\n",
    "sigma_2 = 5\n",
    "\n",
    "for N in [1e0, 1e1, 1e2, 1e3, 1e4, 1e5, 1e6, 1e7]:\n",
    "    true_data = np.random.normal(mu, sigma_0, size = (int(N)))\n",
    "\n",
    "    first_randomization = []\n",
    "    for x in true_data:\n",
    "        first_randomization.append(np.random.normal(x, sigma_1))\n",
    "\n",
    "    collected_data = []\n",
    "    for x in first_randomization:\n",
    "        collected_data.append(np.random.normal(x, sigma_2))\n",
    "\n",
    "    predicted_mu = np.array(collected_data).mean()\n",
    "    print(\"N\", N, \"predicted mu:\", predicted_mu)\n"
   ]
  },
  {
   "cell_type": "code",
   "execution_count": null,
   "metadata": {
    "collapsed": true
   },
   "outputs": [],
   "source": []
  }
 ],
 "metadata": {
  "kernelspec": {
   "display_name": "Python 3",
   "language": "python",
   "name": "python3"
  },
  "language_info": {
   "codemirror_mode": {
    "name": "ipython",
    "version": 3
   },
   "file_extension": ".py",
   "mimetype": "text/x-python",
   "name": "python",
   "nbconvert_exporter": "python",
   "pygments_lexer": "ipython3",
   "version": "3.6.1"
  }
 },
 "nbformat": 4,
 "nbformat_minor": 2
}
